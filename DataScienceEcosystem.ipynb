{
 "cells": [
  {
   "cell_type": "markdown",
   "id": "8b936487",
   "metadata": {},
   "source": [
    "<h1>Data Science Tools and Ecosystem</h1>"
   ]
  },
  {
   "cell_type": "markdown",
   "id": "fcfd9469",
   "metadata": {},
   "source": [
    "In this notebook, Data Science Tools and Ecosystem are summarized."
   ]
  },
  {
   "cell_type": "markdown",
   "id": "c9b304a6",
   "metadata": {},
   "source": [
    "Some of the popular languages that Data Scientists use are:\n",
    "<ol>\n",
    "    <li>java</li>\n",
    "    <li>python</li>\n",
    "    <li>R</li>\n",
    "    <li>php</li>\n",
    "    </ol>"
   ]
  },
  {
   "cell_type": "markdown",
   "id": "923eef93",
   "metadata": {},
   "source": [
    "Some of the commonly used libraries used by Data Scientists include:\n",
    "<ol>\n",
    "    <li>ggplot</li>\n",
    "    <li>gally</li>\n",
    "    <li>pandas</li>\n",
    "    <li>numpy</li>\n",
    "    </ol>"
   ]
  },
  {
   "cell_type": "markdown",
   "id": "e07820a2",
   "metadata": {},
   "source": [
    "<table>\n",
    "  <tr>\n",
    "    <th>Data Science Tools</th>\n",
    "    </tr>\n",
    "     <tr>\n",
    "    <td>jupyter lab</td>\n",
    "     </tr>\n",
    "     <tr>\n",
    "        <td>Rstudio</td>\n",
    "     </tr>\n",
    "     <tr>\n",
    "    <td>Apache Zeppelin</td>\n",
    "    </tr>\n",
    "    </table>"
   ]
  },
  {
   "cell_type": "markdown",
   "id": "b7c2f0cd",
   "metadata": {},
   "source": [
    "<h3>Below are a few examples of evaluating arithmetic expressions in Python</h3>"
   ]
  },
  {
   "cell_type": "code",
   "execution_count": 1,
   "id": "be1b59a5",
   "metadata": {},
   "outputs": [
    {
     "data": {
      "text/plain": [
       "17"
      ]
     },
     "execution_count": 1,
     "metadata": {},
     "output_type": "execute_result"
    }
   ],
   "source": [
    "(3*4)+5\n",
    " # This a simple arithmetic expression to mutiply then add integers"
   ]
  },
  {
   "cell_type": "code",
   "execution_count": 2,
   "id": "3e14de87",
   "metadata": {},
   "outputs": [
    {
     "data": {
      "text/plain": [
       "3"
      ]
     },
     "execution_count": 2,
     "metadata": {},
     "output_type": "execute_result"
    }
   ],
   "source": [
    "200//60\n",
    "# This will convert 200 minutes to hours by diving by 60\n"
   ]
  },
  {
   "cell_type": "markdown",
   "id": "d229b2e6",
   "metadata": {},
   "source": [
    "<b>Objectives:</b>\n",
    "<ul>\n",
    "    <li>python</li>\n",
    "    <li>julia</li>\n",
    "    <li>c++</li>\n",
    "    <li>sql</li>\n",
    "    <li>scala</li>\n",
    "    </ul>"
   ]
  },
  {
   "cell_type": "markdown",
   "id": "9dce018d",
   "metadata": {},
   "source": [
    "<h2>Author</h2>\n",
    "ganesh"
   ]
  },
  {
   "cell_type": "code",
   "execution_count": null,
   "id": "f1f20cc1",
   "metadata": {},
   "outputs": [],
   "source": []
  }
 ],
 "metadata": {
  "kernelspec": {
   "display_name": "Python 3 (ipykernel)",
   "language": "python",
   "name": "python3"
  },
  "language_info": {
   "codemirror_mode": {
    "name": "ipython",
    "version": 3
   },
   "file_extension": ".py",
   "mimetype": "text/x-python",
   "name": "python",
   "nbconvert_exporter": "python",
   "pygments_lexer": "ipython3",
   "version": "3.10.9"
  }
 },
 "nbformat": 4,
 "nbformat_minor": 5
}
